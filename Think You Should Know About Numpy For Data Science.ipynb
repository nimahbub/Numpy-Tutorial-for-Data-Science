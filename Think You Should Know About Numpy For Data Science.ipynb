{
 "cells": [
  {
   "cell_type": "markdown",
   "metadata": {},
   "source": [
    "<img src='img/images.jpeg' />"
   ]
  },
  {
   "cell_type": "markdown",
   "metadata": {},
   "source": [
    "\n",
    " <span style='color:blue'> NumPy </span> is a general purpose array processing package.It provides a high performance multidimentional array object and tools for working with these arrays.It is the fundamental package for scientific computing with python.\n",
    "## Features of Numpy:-\n",
    "- A powerful N-dimentional array object.\n",
    "- Sophisticated (broadcasting) functions.\n",
    "- Tools for integrating C/C++ and Fortran code.\n",
    "- Useful linear algebra,Fourier transform and random number capabilities.\n",
    "\n",
    "## Advantages of Numpy over regular Python lists:-\n",
    "- Numpy is more **memory efficient** than regular python list.\n",
    "- Numpy is more **covenient** than python list.\n",
    "- Numpy provides a lot of **vector and matrix operation** for free which sometimes allow one to avoid uncecessary work.\n",
    "- Numpy array is **10x faster** than regular python lists."
   ]
  },
  {
   "cell_type": "code",
   "execution_count": 63,
   "metadata": {},
   "outputs": [],
   "source": [
    "#import numpy package\n",
    "import numpy as np"
   ]
  },
  {
   "cell_type": "markdown",
   "metadata": {},
   "source": [
    "## Array Creation using Numpy\n",
    "**There are 5 general mechanisms for creating arrays in Numpy:**\n",
    "1. Conversion from other Python structures (e.g., lists, tuples)\n",
    "2. Intrinsic numpy array creation objects (e.g., arange, ones, zeros, etc.)\n",
    "3. Reading arrays from disk, either from standard or custom formats.\n",
    "4. Creating arrays from raw bytes through the use of strings or buffers.\n",
    "5. Use of special library functions (e.g., random)."
   ]
  },
  {
   "cell_type": "markdown",
   "metadata": {},
   "source": [
    "### Array Creation:- Conversion from other Python structures (e.g., lists, tuples)"
   ]
  },
  {
   "cell_type": "code",
   "execution_count": 68,
   "metadata": {},
   "outputs": [
    {
     "data": {
      "text/plain": [
       "array([2, 3, 5, 6])"
      ]
     },
     "execution_count": 68,
     "metadata": {},
     "output_type": "execute_result"
    }
   ],
   "source": [
    "# creating 1D array\n",
    "myarr=np.array([2,3,5,6])\n",
    "myarr"
   ]
  },
  {
   "cell_type": "code",
   "execution_count": 69,
   "metadata": {},
   "outputs": [
    {
     "data": {
      "text/plain": [
       "array([[2, 3, 4]])"
      ]
     },
     "execution_count": 69,
     "metadata": {},
     "output_type": "execute_result"
    }
   ],
   "source": [
    "#Creating 2d array\n",
    "x=np.array([[2,3,4]])\n",
    "x"
   ]
  },
  {
   "cell_type": "code",
   "execution_count": 28,
   "metadata": {},
   "outputs": [],
   "source": [
    "# creating arrary using tuple and list \n",
    "y=np.array([[1,2.0],[0,0],(1+1j,3.)]) "
   ]
  },
  {
   "cell_type": "code",
   "execution_count": 23,
   "metadata": {},
   "outputs": [
    {
     "data": {
      "text/plain": [
       "array([[1.+0.j, 2.+0.j],\n",
       "       [0.+0.j, 0.+0.j],\n",
       "       [1.+1.j, 3.+0.j]])"
      ]
     },
     "execution_count": 23,
     "metadata": {},
     "output_type": "execute_result"
    }
   ],
   "source": [
    "y"
   ]
  },
  {
   "cell_type": "markdown",
   "metadata": {},
   "source": [
    "###  <span style='color:blue'> Intrinsic numpy array creation objects (e.g., arange, ones, zeros, etc.)</spna>\n",
    "NumPy has built-in functions for creating arrays from scratch such as:\n",
    "1. **zeros(shape)** will create an array filled with 0 values with the specified shape. The default dtype is float64.\n",
    "2. **ones(shape)** will create an array filled with 1 values. It is identical to zeros in all other respects.\n",
    "3. **arange()** will create arrays with regularly incrementing values.\n",
    "4. **linspace()** will create arrays with a specified number of elements, and spaced equally between the specified beginning and end values. "
   ]
  },
  {
   "cell_type": "markdown",
   "metadata": {},
   "source": [
    "### using zeros()"
   ]
  },
  {
   "cell_type": "code",
   "execution_count": 32,
   "metadata": {},
   "outputs": [
    {
     "data": {
      "text/plain": [
       "array([[0., 0., 0., 0.],\n",
       "       [0., 0., 0., 0.],\n",
       "       [0., 0., 0., 0.]])"
      ]
     },
     "execution_count": 32,
     "metadata": {},
     "output_type": "execute_result"
    }
   ],
   "source": [
    "# gives (3,4) shape array with value zero and it's type is float\n",
    "arr=np.zeros((3,4)) \n",
    "arr"
   ]
  },
  {
   "cell_type": "code",
   "execution_count": 36,
   "metadata": {},
   "outputs": [
    {
     "data": {
      "text/plain": [
       "array([[0. , 0. , 0. , 0. ],\n",
       "       [0. , 0. , 0. , 0. ],\n",
       "       [0. , 0. , 0. , 3.5]])"
      ]
     },
     "execution_count": 36,
     "metadata": {},
     "output_type": "execute_result"
    }
   ],
   "source": [
    " #insert value\n",
    "arr[2,3]=3.5  \n",
    "arr"
   ]
  },
  {
   "cell_type": "markdown",
   "metadata": {},
   "source": [
    "### using ones()"
   ]
  },
  {
   "cell_type": "code",
   "execution_count": 39,
   "metadata": {},
   "outputs": [
    {
     "data": {
      "text/plain": [
       "array([[1., 1., 1.],\n",
       "       [1., 1., 1.]])"
      ]
     },
     "execution_count": 39,
     "metadata": {},
     "output_type": "execute_result"
    }
   ],
   "source": [
    "#gives (2,3) shape array with value one and it's type is float\n",
    "a=np.ones((2,3)) \n",
    "a"
   ]
  },
  {
   "cell_type": "markdown",
   "metadata": {},
   "source": [
    "### using arange()"
   ]
  },
  {
   "cell_type": "code",
   "execution_count": 41,
   "metadata": {},
   "outputs": [
    {
     "data": {
      "text/plain": [
       "array([0, 1, 2, 3, 4, 5, 6, 7, 8, 9])"
      ]
     },
     "execution_count": 41,
     "metadata": {},
     "output_type": "execute_result"
    }
   ],
   "source": [
    " # creating 1d array from 0-10\n",
    "b=np.arange(10)\n",
    "b"
   ]
  },
  {
   "cell_type": "code",
   "execution_count": 42,
   "metadata": {},
   "outputs": [
    {
     "data": {
      "text/plain": [
       "array([2. , 2.1, 2.2, 2.3, 2.4, 2.5, 2.6, 2.7, 2.8, 2.9])"
      ]
     },
     "execution_count": 42,
     "metadata": {},
     "output_type": "execute_result"
    }
   ],
   "source": [
    "# creatig 1d array from 2 to 3 which difference .1\n",
    "np.arange(2, 3, 0.1) "
   ]
  },
  {
   "cell_type": "markdown",
   "metadata": {},
   "source": [
    "### using  linspace()"
   ]
  },
  {
   "cell_type": "code",
   "execution_count": 43,
   "metadata": {},
   "outputs": [
    {
     "data": {
      "text/plain": [
       "array([1. , 1.6, 2.2, 2.8, 3.4, 4. ])"
      ]
     },
     "execution_count": 43,
     "metadata": {},
     "output_type": "execute_result"
    }
   ],
   "source": [
    "np.linspace(1., 4., 6)"
   ]
  },
  {
   "cell_type": "markdown",
   "metadata": {},
   "source": [
    "### Some other NumPy  built-in functions for creating arrays \n",
    "- empty()\n",
    "- identity()"
   ]
  },
  {
   "cell_type": "code",
   "execution_count": 44,
   "metadata": {},
   "outputs": [
    {
     "data": {
      "text/plain": [
       "array([[1. , 1.6, 2.2],\n",
       "       [2.8, 3.4, 4. ]])"
      ]
     },
     "execution_count": 44,
     "metadata": {},
     "output_type": "execute_result"
    }
   ],
   "source": [
    "np.empty((2,3)) #giving array with random value"
   ]
  },
  {
   "cell_type": "code",
   "execution_count": 45,
   "metadata": {},
   "outputs": [
    {
     "data": {
      "text/plain": [
       "array([[1., 0., 0., 0., 0.],\n",
       "       [0., 1., 0., 0., 0.],\n",
       "       [0., 0., 1., 0., 0.],\n",
       "       [0., 0., 0., 1., 0.],\n",
       "       [0., 0., 0., 0., 1.]])"
      ]
     },
     "execution_count": 45,
     "metadata": {},
     "output_type": "execute_result"
    }
   ],
   "source": [
    "np.identity(5) #for creating identity matrix"
   ]
  },
  {
   "cell_type": "markdown",
   "metadata": {},
   "source": [
    "# Creating array using special library functions (e.g., random).\n"
   ]
  },
  {
   "cell_type": "markdown",
   "metadata": {},
   "source": [
    "#### Random sampling with float values\n",
    "-np.random.random()"
   ]
  },
  {
   "cell_type": "code",
   "execution_count": 187,
   "metadata": {},
   "outputs": [
    {
     "name": "stdout",
     "output_type": "stream",
     "text": [
      "1D array filled with random floats:  [0.87994498 0.19761757 0.5230019 ]\n"
     ]
    }
   ],
   "source": [
    "#Creating 1-D array\n",
    "out_arr=np.random.random(size=3)\n",
    "print('1D array filled with random floats: ',out_arr)"
   ]
  },
  {
   "cell_type": "code",
   "execution_count": 190,
   "metadata": {
    "scrolled": true
   },
   "outputs": [
    {
     "name": "stdout",
     "output_type": "stream",
     "text": [
      "2D array filled with random floats:  [[0.25727793 0.44616548 0.86677301 0.95674354]\n",
      " [0.66901285 0.20986148 0.42707955 0.87131262]]\n"
     ]
    }
   ],
   "source": [
    "#creating 2-D array\n",
    "out_arr=np.random.random(size=(2,4))\n",
    "print('2D array filled with random floats: ',out_arr)"
   ]
  },
  {
   "cell_type": "code",
   "execution_count": 192,
   "metadata": {},
   "outputs": [
    {
     "name": "stdout",
     "output_type": "stream",
     "text": [
      "3D array filled with random floats:  [[[0.84608834 0.09268362]\n",
      "  [0.92327891 0.59210469]\n",
      "  [0.51990464 0.98883379]]\n",
      "\n",
      " [[0.74947522 0.07986873]\n",
      "  [0.08258312 0.1245685 ]\n",
      "  [0.26729399 0.52283808]]]\n"
     ]
    }
   ],
   "source": [
    "#Creating 3-D array\n",
    "out_arr=np.random.random(size=(2,3,2))\n",
    "print('3D array filled with random floats: ',out_arr)"
   ]
  },
  {
   "cell_type": "markdown",
   "metadata": {},
   "source": [
    "### Random sampling with integer with value\n",
    "- np.random.randint()"
   ]
  },
  {
   "cell_type": "code",
   "execution_count": 197,
   "metadata": {},
   "outputs": [
    {
     "name": "stdout",
     "output_type": "stream",
     "text": [
      "1D array filled with random integers:  [3 5 3 1 5]\n"
     ]
    }
   ],
   "source": [
    "x=np.random.randint(10,size=5) # 10 defines the range 0f value here(1-10)\n",
    "print('1D array filled with random integers: ',x)"
   ]
  },
  {
   "cell_type": "code",
   "execution_count": 201,
   "metadata": {},
   "outputs": [
    {
     "name": "stdout",
     "output_type": "stream",
     "text": [
      "2D array filled with random integers: \n",
      " [[57 55 69 53]\n",
      " [96 96 48 25]\n",
      " [54 46 68 19]]\n"
     ]
    }
   ],
   "source": [
    "x=np.random.randint(100,size=(3,4))\n",
    "print('2D array filled with random integers: \\n',x)"
   ]
  },
  {
   "cell_type": "code",
   "execution_count": 202,
   "metadata": {},
   "outputs": [
    {
     "name": "stdout",
     "output_type": "stream",
     "text": [
      "3D array filled with random integers: \n",
      " [[[54  9 13]\n",
      "  [96 58 92]\n",
      "  [46 96 78]\n",
      "  [ 0 71 67]]\n",
      "\n",
      " [[57 83  1]\n",
      "  [65 77 89]\n",
      "  [60 35 88]\n",
      "  [48 94  7]]\n",
      "\n",
      " [[92 13 80]\n",
      "  [90 87 29]\n",
      "  [88 81 81]\n",
      "  [86 60 25]]]\n"
     ]
    }
   ],
   "source": [
    "x=np.random.randint(100,size=(3,4,3))\n",
    "print('3D array filled with random integers: \\n',x)"
   ]
  },
  {
   "cell_type": "markdown",
   "metadata": {},
   "source": [
    "# Some Basic Attributes of Numpy array\n",
    "- \"ndim\" attribute\n",
    "- \"shape\" attribute\n",
    "- \"size\" attribute\n",
    "- \"dtype\" attribute\n",
    "- \"itemsize\" attribute\n"
   ]
  },
  {
   "cell_type": "code",
   "execution_count": null,
   "metadata": {},
   "outputs": [],
   "source": []
  },
  {
   "cell_type": "code",
   "execution_count": 83,
   "metadata": {},
   "outputs": [
    {
     "data": {
      "text/plain": [
       "array([[23,  4,  5],\n",
       "       [ 2,  3,  4]])"
      ]
     },
     "execution_count": 83,
     "metadata": {},
     "output_type": "execute_result"
    }
   ],
   "source": [
    "towd_ar=np.array([[23,4,5],[2,3,4]])\n",
    "ar"
   ]
  },
  {
   "cell_type": "code",
   "execution_count": 84,
   "metadata": {},
   "outputs": [
    {
     "data": {
      "text/plain": [
       "2"
      ]
     },
     "execution_count": 84,
     "metadata": {},
     "output_type": "execute_result"
    }
   ],
   "source": [
    "# ndarry.ndim  represents the number of dimension\n",
    "towd_ar.ndim"
   ]
  },
  {
   "cell_type": "code",
   "execution_count": 85,
   "metadata": {},
   "outputs": [
    {
     "data": {
      "text/plain": [
       "(2, 3)"
      ]
     },
     "execution_count": 85,
     "metadata": {},
     "output_type": "execute_result"
    }
   ],
   "source": [
    "# ndarray.shape  represents the size of the ndarray in each dimension\n",
    "towd_ar.shape"
   ]
  },
  {
   "cell_type": "code",
   "execution_count": 86,
   "metadata": {},
   "outputs": [
    {
     "data": {
      "text/plain": [
       "6"
      ]
     },
     "execution_count": 86,
     "metadata": {},
     "output_type": "execute_result"
    }
   ],
   "source": [
    "#ndaarray.size  represents the total number of elements in the ndarray\n",
    "towd_ar.size"
   ]
  },
  {
   "cell_type": "code",
   "execution_count": 87,
   "metadata": {},
   "outputs": [
    {
     "data": {
      "text/plain": [
       "dtype('int32')"
      ]
     },
     "execution_count": 87,
     "metadata": {},
     "output_type": "execute_result"
    }
   ],
   "source": [
    "#ndarray.dtype tells the data type of the elements of a Numpy array\n",
    "towd_ar.dtype"
   ]
  },
  {
   "cell_type": "code",
   "execution_count": 88,
   "metadata": {},
   "outputs": [
    {
     "data": {
      "text/plain": [
       "4"
      ]
     },
     "execution_count": 88,
     "metadata": {},
     "output_type": "execute_result"
    }
   ],
   "source": [
    "#ndarray.itemsize returns the size(in bytes) of each element of a Numpy arry\n",
    "towd_ar.itemsize"
   ]
  },
  {
   "cell_type": "code",
   "execution_count": 204,
   "metadata": {},
   "outputs": [
    {
     "data": {
      "text/plain": [
       "array([[23,  5,  3],\n",
       "       [ 4,  2,  4]])"
      ]
     },
     "execution_count": 204,
     "metadata": {},
     "output_type": "execute_result"
    }
   ],
   "source": [
    "# Transpose Matrix\n",
    "towd_ar.T"
   ]
  },
  {
   "cell_type": "code",
   "execution_count": 207,
   "metadata": {},
   "outputs": [
    {
     "data": {
      "text/plain": [
       "<numpy.flatiter at 0x2a5e8f1ca10>"
      ]
     },
     "execution_count": 207,
     "metadata": {},
     "output_type": "execute_result"
    }
   ],
   "source": [
    "#Flat\n",
    "towd_ar.flat"
   ]
  },
  {
   "cell_type": "code",
   "execution_count": 206,
   "metadata": {},
   "outputs": [
    {
     "name": "stdout",
     "output_type": "stream",
     "text": [
      "23\n",
      "4\n",
      "5\n",
      "2\n",
      "3\n",
      "4\n"
     ]
    }
   ],
   "source": [
    "for i in towd_ar.flat:\n",
    "    print(i)"
   ]
  },
  {
   "cell_type": "markdown",
   "metadata": {},
   "source": [
    "## Type Conversion in numpy array\n",
    "- tolist() is used convert array into simple list\n",
    "- astype() is used for covert type"
   ]
  },
  {
   "cell_type": "code",
   "execution_count": 214,
   "metadata": {},
   "outputs": [
    {
     "name": "stdout",
     "output_type": "stream",
     "text": [
      "[ 0  1  2  3  4  5  6  7  8  9 10 11]\n",
      "<class 'numpy.ndarray'>\n",
      "Array to list:  [0, 1, 2, 3, 4, 5, 6, 7, 8, 9, 10, 11]\n",
      "<class 'list'>\n"
     ]
    }
   ],
   "source": [
    "x=np.arange(12)\n",
    "print(x)\n",
    "print(type(x))\n",
    "print(\"Array to list: \",x.tolist())\n",
    "print(type(x.tolist()))"
   ]
  },
  {
   "cell_type": "code",
   "execution_count": 209,
   "metadata": {},
   "outputs": [
    {
     "name": "stdout",
     "output_type": "stream",
     "text": [
      "[0 1 2 3 4 5 6 7 8]\n",
      "int32\n"
     ]
    }
   ],
   "source": [
    "x=np.arange(9)\n",
    "print(x)\n",
    "print(x.dtype)"
   ]
  },
  {
   "cell_type": "code",
   "execution_count": 210,
   "metadata": {},
   "outputs": [
    {
     "name": "stdout",
     "output_type": "stream",
     "text": [
      "[0. 1. 2. 3. 4. 5. 6. 7. 8.]\n",
      "float64\n"
     ]
    }
   ],
   "source": [
    "#covert int32 into float64\n",
    "x=x.astype('float64')\n",
    "print(x)\n",
    "print(x.dtype)"
   ]
  },
  {
   "cell_type": "markdown",
   "metadata": {},
   "source": [
    "# Numpy axis\n",
    "* For 1D array number of axis is 1 (axis 0) *\n",
    "* For 2D array number of axis is 2 (axis 0 and axis 1) *\n",
    "* For  2D array 0 axis is counted for column and axis 1 is counted for row"
   ]
  },
  {
   "cell_type": "code",
   "execution_count": 79,
   "metadata": {},
   "outputs": [
    {
     "data": {
      "text/plain": [
       "array([[1, 2, 3],\n",
       "       [4, 5, 6],\n",
       "       [7, 1, 0]])"
      ]
     },
     "execution_count": 79,
     "metadata": {},
     "output_type": "execute_result"
    }
   ],
   "source": [
    "z=[[1,2,3],[4,5,6],[7,1,0]]\n",
    "ar=np.array(z)\n",
    "ar"
   ]
  },
  {
   "cell_type": "code",
   "execution_count": 53,
   "metadata": {},
   "outputs": [
    {
     "data": {
      "text/plain": [
       "array([12,  8,  9])"
      ]
     },
     "execution_count": 53,
     "metadata": {},
     "output_type": "execute_result"
    }
   ],
   "source": [
    "ar.sum(axis=0) #[1+4+7=12,2+5+1=8,3+6+0=9] sum of every column"
   ]
  },
  {
   "cell_type": "code",
   "execution_count": 54,
   "metadata": {},
   "outputs": [
    {
     "data": {
      "text/plain": [
       "array([ 6, 15,  8])"
      ]
     },
     "execution_count": 54,
     "metadata": {},
     "output_type": "execute_result"
    }
   ],
   "source": [
    "ar.sum(axis=1) # sum of every row"
   ]
  },
  {
   "cell_type": "markdown",
   "metadata": {},
   "source": [
    "# Some basic method in numpy:"
   ]
  },
  {
   "cell_type": "markdown",
   "metadata": {},
   "source": [
    "- reshape() \n",
    "- resize() \n",
    "- concatenate()\n",
    "- ravel()\n",
    "- transpose()"
   ]
  },
  {
   "cell_type": "code",
   "execution_count": 89,
   "metadata": {},
   "outputs": [
    {
     "data": {
      "text/plain": [
       "array([[23,  4,  5],\n",
       "       [ 2,  3,  4]])"
      ]
     },
     "execution_count": 89,
     "metadata": {},
     "output_type": "execute_result"
    }
   ],
   "source": [
    "towd_ar"
   ]
  },
  {
   "cell_type": "code",
   "execution_count": 90,
   "metadata": {},
   "outputs": [
    {
     "data": {
      "text/plain": [
       "(2, 3)"
      ]
     },
     "execution_count": 90,
     "metadata": {},
     "output_type": "execute_result"
    }
   ],
   "source": [
    "towd_ar.shape"
   ]
  },
  {
   "cell_type": "code",
   "execution_count": 93,
   "metadata": {},
   "outputs": [
    {
     "data": {
      "text/plain": [
       "array([[23,  4],\n",
       "       [ 5,  2],\n",
       "       [ 3,  4]])"
      ]
     },
     "execution_count": 93,
     "metadata": {},
     "output_type": "execute_result"
    }
   ],
   "source": [
    "#reshape() method\n",
    "towd_ar.reshape(3,2) # change the shape into (3,2)"
   ]
  },
  {
   "cell_type": "code",
   "execution_count": 98,
   "metadata": {},
   "outputs": [
    {
     "data": {
      "text/plain": [
       "array([[23,  4],\n",
       "       [ 5,  2],\n",
       "       [ 3,  4]])"
      ]
     },
     "execution_count": 98,
     "metadata": {},
     "output_type": "execute_result"
    }
   ],
   "source": [
    "#resize() method\n",
    "towd_ar.resize(3,2) #change the shape into (3,2) as well\n",
    "towd_ar"
   ]
  },
  {
   "cell_type": "markdown",
   "metadata": {},
   "source": [
    "#### Difference between reshape and resize method\n",
    "Both ***reshape()*** and ***resize()*** method change the shape of the numpy array but the difference is that using resize() will affect the orginal array(like inplace=True) while using reshape create a new reshaped instance of the array.Examples are given below."
   ]
  },
  {
   "cell_type": "code",
   "execution_count": 106,
   "metadata": {},
   "outputs": [
    {
     "name": "stdout",
     "output_type": "stream",
     "text": [
      "Orginal r: \n",
      " [0 1 2 3 4 5 6 7 8]\n",
      "\n",
      "reshaped array: \n",
      " [[0 1 2]\n",
      " [3 4 5]\n",
      " [6 7 8]]\n",
      "\n",
      "narry r after reshape was applied: \n",
      " [0 1 2 3 4 5 6 7 8]\n"
     ]
    }
   ],
   "source": [
    "#Example for reshape() method\n",
    "r=np.arange(9)\n",
    "print('Orginal r: \\n',r)\n",
    "print('\\nreshaped array: \\n',r.reshape(3,3))\n",
    "print('\\nnarry r after reshape was applied: \\n',r)"
   ]
  },
  {
   "cell_type": "code",
   "execution_count": 104,
   "metadata": {},
   "outputs": [
    {
     "name": "stdout",
     "output_type": "stream",
     "text": [
      "Orginal r: \n",
      " [0 1 2 3 4 5 6 7 8]\n",
      "\n",
      "reshaped array: \n",
      " None\n",
      "\n",
      "narry r after reshape was applied: \n",
      " [[0 1 2]\n",
      " [3 4 5]\n",
      " [6 7 8]]\n"
     ]
    }
   ],
   "source": [
    "#Example for resize() method\n",
    "r=np.arange(9)\n",
    "print('Orginal r: \\n',r)\n",
    "print('\\nresized array: \\n',r.resize(3,3))\n",
    "print('\\nnarry r after reshape was applied: \\n',r)\n"
   ]
  },
  {
   "cell_type": "markdown",
   "metadata": {},
   "source": [
    "#### concatenate() method:\n",
    "concatenate() method can be used to concatenate two arrays either row-wise or column-wise.Concatenate function can take two or more arrays of the same shape and by default it contaenates row-wise(axis=0)"
   ]
  },
  {
   "cell_type": "code",
   "execution_count": 109,
   "metadata": {},
   "outputs": [
    {
     "name": "stdout",
     "output_type": "stream",
     "text": [
      "array_1: \n",
      "   [[10 11 12]\n",
      " [13 14 15]\n",
      " [16 17 18]]\n",
      "\n",
      "array_2: \n",
      "   [[ 3  4  5]\n",
      " [ 6  7  8]\n",
      " [ 9 10 11]]\n"
     ]
    }
   ],
   "source": [
    "array_1=np.arange(10,19).reshape(3,3)\n",
    "array_2=np.arange(3,12).reshape(3,3)\n",
    "print('array_1: \\n  ',array_1)\n",
    "print('\\narray_2: \\n  ',array_2)"
   ]
  },
  {
   "cell_type": "code",
   "execution_count": 110,
   "metadata": {},
   "outputs": [
    {
     "data": {
      "text/plain": [
       "array([[10, 11, 12],\n",
       "       [13, 14, 15],\n",
       "       [16, 17, 18],\n",
       "       [ 3,  4,  5],\n",
       "       [ 6,  7,  8],\n",
       "       [ 9, 10, 11]])"
      ]
     },
     "execution_count": 110,
     "metadata": {},
     "output_type": "execute_result"
    }
   ],
   "source": [
    "#concatenate : row-wise\n",
    "np.concatenate((array_1,array_2))"
   ]
  },
  {
   "cell_type": "code",
   "execution_count": 112,
   "metadata": {},
   "outputs": [
    {
     "data": {
      "text/plain": [
       "array([[10, 11, 12,  3,  4,  5],\n",
       "       [13, 14, 15,  6,  7,  8],\n",
       "       [16, 17, 18,  9, 10, 11]])"
      ]
     },
     "execution_count": 112,
     "metadata": {},
     "output_type": "execute_result"
    }
   ],
   "source": [
    "#concatenate : column-wise\n",
    "np.concatenate((array_1,array_2),axis=1)"
   ]
  },
  {
   "cell_type": "markdown",
   "metadata": {},
   "source": [
    "## ravel() method:-\n",
    "- ravel() method is used to convert 2D array into 1D array.\n"
   ]
  },
  {
   "cell_type": "code",
   "execution_count": 118,
   "metadata": {},
   "outputs": [
    {
     "name": "stdout",
     "output_type": "stream",
     "text": [
      "[[ 3  4  5]\n",
      " [ 6  7  8]\n",
      " [ 9 10 11]]\n",
      "array dimention:  2\n"
     ]
    }
   ],
   "source": [
    "tow_d_array=np.arange(3,12).reshape(3,3)\n",
    "print(tow_d_array)\n",
    "print(\"array dimention: \",tow_d_array.ndim)\n",
    "\n",
    "\n"
   ]
  },
  {
   "cell_type": "code",
   "execution_count": 117,
   "metadata": {},
   "outputs": [
    {
     "data": {
      "text/plain": [
       "array([ 3,  4,  5,  6,  7,  8,  9, 10, 11])"
      ]
     },
     "execution_count": 117,
     "metadata": {},
     "output_type": "execute_result"
    }
   ],
   "source": [
    "tow_d_array.ravel()"
   ]
  },
  {
   "cell_type": "markdown",
   "metadata": {},
   "source": [
    "### transpose() method:\n",
    "- replace row elements into column and column element into row"
   ]
  },
  {
   "cell_type": "code",
   "execution_count": 120,
   "metadata": {},
   "outputs": [
    {
     "data": {
      "text/plain": [
       "array([[ 2,  3,  4],\n",
       "       [ 5,  6,  7],\n",
       "       [ 8,  9, 10]])"
      ]
     },
     "execution_count": 120,
     "metadata": {},
     "output_type": "execute_result"
    }
   ],
   "source": [
    "r=np.arange(2,11).reshape(3,3)\n",
    "r"
   ]
  },
  {
   "cell_type": "code",
   "execution_count": 121,
   "metadata": {},
   "outputs": [
    {
     "data": {
      "text/plain": [
       "array([[ 2,  5,  8],\n",
       "       [ 3,  6,  9],\n",
       "       [ 4,  7, 10]])"
      ]
     },
     "execution_count": 121,
     "metadata": {},
     "output_type": "execute_result"
    }
   ],
   "source": [
    "r.transpose()"
   ]
  },
  {
   "cell_type": "markdown",
   "metadata": {},
   "source": [
    "## Common statistical functions in numpy:\n",
    "- sum()      :used for sum\n",
    "- min()      :used for finding mininum value\n",
    "- max()      :used for finding maximum value\n",
    "- mean()     :used for finding mean value\n",
    "- median()   :used for finding median value\n",
    "- std()      :used for finding standard deviation\n",
    "- var()      :used for finding variance\n",
    "- sort()     :used for sorting\n",
    "- ptp()      :return range(max-min) of values "
   ]
  },
  {
   "cell_type": "code",
   "execution_count": 122,
   "metadata": {},
   "outputs": [],
   "source": [
    "test_ar=np.arange(3,12).reshape(3,3)"
   ]
  },
  {
   "cell_type": "code",
   "execution_count": 123,
   "metadata": {},
   "outputs": [
    {
     "data": {
      "text/plain": [
       "array([[ 3,  4,  5],\n",
       "       [ 6,  7,  8],\n",
       "       [ 9, 10, 11]])"
      ]
     },
     "execution_count": 123,
     "metadata": {},
     "output_type": "execute_result"
    }
   ],
   "source": [
    "test_ar"
   ]
  },
  {
   "cell_type": "code",
   "execution_count": 131,
   "metadata": {},
   "outputs": [
    {
     "name": "stdout",
     "output_type": "stream",
     "text": [
      "Sum of all element:  63\n",
      "Sum of all element along axis 0:  [18 21 24]\n",
      "Sum of all element along axis 1:  [12 21 30]\n"
     ]
    }
   ],
   "source": [
    "#sum() method\n",
    "print('Sum of all element: ', np.sum(test_ar)) #finding sum of all element\n",
    "print('Sum of all element along axis 0: ',np.sum(test_ar,axis=0)) #sum of all element in column wise\n",
    "print('Sum of all element along axis 1: ',np.sum(test_ar,axis=1)) #sum of all element in row wise"
   ]
  },
  {
   "cell_type": "code",
   "execution_count": 132,
   "metadata": {},
   "outputs": [
    {
     "name": "stdout",
     "output_type": "stream",
     "text": [
      "Min value  from all the element:  3\n",
      "Min value  along axis 0:  [3 4 5]\n",
      "Min value  along axis 1:  [3 6 9]\n"
     ]
    }
   ],
   "source": [
    "#min() method\n",
    "print('Min value  from all the element: ', np.min(test_ar)) #finding min  value from all the element\n",
    "print('Min value  along axis 0: ',np.min(test_ar,axis=0)) #finding min value in column wise\n",
    "print('Min value  along axis 1: ',np.min(test_ar,axis=1)) #finding min value in row wise"
   ]
  },
  {
   "cell_type": "code",
   "execution_count": 133,
   "metadata": {},
   "outputs": [
    {
     "name": "stdout",
     "output_type": "stream",
     "text": [
      "Max value  from all the element:  11\n",
      "Max value  along axis 0:  [ 9 10 11]\n",
      "Max value  along axis 1:  [ 5  8 11]\n"
     ]
    }
   ],
   "source": [
    "#max() method\n",
    "print('Max value  from all the element: ', np.max(test_ar)) #finding max  value from all the element\n",
    "print('Max value  along axis 0: ',np.max(test_ar,axis=0)) #finding max value in column wise\n",
    "print('Max value  along axis 1: ',np.max(test_ar,axis=1)) #finding max value in row wise"
   ]
  },
  {
   "cell_type": "code",
   "execution_count": 134,
   "metadata": {},
   "outputs": [
    {
     "name": "stdout",
     "output_type": "stream",
     "text": [
      "mean value  from all the element:  7.0\n",
      "mean value  along axis 0:  [6. 7. 8.]\n",
      "mean value  along axis 1:  [ 4.  7. 10.]\n"
     ]
    }
   ],
   "source": [
    "#mean() method\n",
    "print('mean value  from all the element: ', np.mean(test_ar)) #finding mean  value from all the element\n",
    "print('mean value  along axis 0: ',np.mean(test_ar,axis=0)) #finding mean value in column wise\n",
    "print('mean value  along axis 1: ',np.mean(test_ar,axis=1)) #finding mean value in row wise"
   ]
  },
  {
   "cell_type": "code",
   "execution_count": 135,
   "metadata": {},
   "outputs": [
    {
     "name": "stdout",
     "output_type": "stream",
     "text": [
      "median value  from all the element:  7.0\n",
      "median value  along axis 0:  [6. 7. 8.]\n",
      "median value  along axis 1:  [ 4.  7. 10.]\n"
     ]
    }
   ],
   "source": [
    "#median() method\n",
    "print('median value  from all the element: ', np.median(test_ar)) #finding median  value from all the element\n",
    "print('median value  along axis 0: ',np.median(test_ar,axis=0)) #finding median value in column wise\n",
    "print('median value  along axis 1: ',np.median(test_ar,axis=1)) #finding median value in row wise"
   ]
  },
  {
   "cell_type": "code",
   "execution_count": 136,
   "metadata": {},
   "outputs": [
    {
     "name": "stdout",
     "output_type": "stream",
     "text": [
      "std value  from all the element:  2.581988897471611\n",
      "std value  along axis 0:  [2.44948974 2.44948974 2.44948974]\n",
      "std value  along axis 1:  [0.81649658 0.81649658 0.81649658]\n"
     ]
    }
   ],
   "source": [
    "#std() method\n",
    "print('std value  from all the element: ', np.std(test_ar)) #finding std  value from all the element\n",
    "print('std value  along axis 0: ',np.std(test_ar,axis=0)) #finding std value in column wise\n",
    "print('std value  along axis 1: ',np.std(test_ar,axis=1)) #finding std value in row wise"
   ]
  },
  {
   "cell_type": "code",
   "execution_count": 137,
   "metadata": {},
   "outputs": [
    {
     "name": "stdout",
     "output_type": "stream",
     "text": [
      "var value  from all the element:  6.666666666666667\n",
      "var value  along axis 0:  [6. 6. 6.]\n",
      "var value  along axis 1:  [0.66666667 0.66666667 0.66666667]\n"
     ]
    }
   ],
   "source": [
    "#var() method\n",
    "print('var value  from all the element: ', np.var(test_ar)) #finding median  value from all the element\n",
    "print('var value  along axis 0: ',np.var(test_ar,axis=0)) #finding median value in column wise\n",
    "print('var value  along axis 1: ',np.var(test_ar,axis=1)) #finding median value in row wise"
   ]
  },
  {
   "cell_type": "code",
   "execution_count": 139,
   "metadata": {
    "scrolled": true
   },
   "outputs": [
    {
     "name": "stdout",
     "output_type": "stream",
     "text": [
      "sort value  from all the element:\n",
      " [[ 3  4  5]\n",
      " [ 6  7  8]\n",
      " [ 9 10 11]]\n",
      "sort value  along axis 0:\n",
      " [[ 3  4  5]\n",
      " [ 6  7  8]\n",
      " [ 9 10 11]]\n",
      "sort value  along axis 1:\n",
      "  [[ 3  4  5]\n",
      " [ 6  7  8]\n",
      " [ 9 10 11]]\n"
     ]
    }
   ],
   "source": [
    "#sort() method\n",
    "print('sort value  from all the element:\\n', np.sort(test_ar)) #finding median  value from all the element\n",
    "print('sort value  along axis 0:\\n',np.sort(test_ar,axis=0)) #finding median value in column wise\n",
    "print('sort value  along axis 1:\\n ',np.sort(test_ar,axis=1)) #finding median value in row wise"
   ]
  },
  {
   "cell_type": "code",
   "execution_count": 177,
   "metadata": {},
   "outputs": [
    {
     "name": "stdout",
     "output_type": "stream",
     "text": [
      "range(max-min) value  from all the element:\n",
      " 8\n",
      "range(max-min)  value  along axis 0:\n",
      " [6 6 6]\n",
      "range(max-min)  value  along axis 1:\n",
      "  [2 2 2]\n"
     ]
    }
   ],
   "source": [
    "#ptp() method\n",
    "print('range(max-min) value  from all the element:\\n', np.ptp(test_ar)) #finding range(max-min)   value from all the element\n",
    "print('range(max-min)  value  along axis 0:\\n',np.ptp(test_ar,axis=0)) #finding range(max-min)  value in column wise\n",
    "print('range(max-min)  value  along axis 1:\\n ',np.ptp(test_ar,axis=1)) #finding range(max-min)  value in row wise"
   ]
  },
  {
   "cell_type": "markdown",
   "metadata": {},
   "source": [
    "# Arithmetic Operations in Numpy"
   ]
  },
  {
   "cell_type": "code",
   "execution_count": 146,
   "metadata": {},
   "outputs": [
    {
     "name": "stdout",
     "output_type": "stream",
     "text": [
      "Array_1: \n",
      " [[0 1 2 3 4]\n",
      " [5 6 7 8 9]]\n",
      "Array_2: \n",
      " [3 4 9 3 4]\n",
      "Adding two arrays: \n",
      " [[ 3  5 11  6  8]\n",
      " [ 8 10 16 11 13]]\n",
      "Subracting two arrays: \n",
      " [[-3 -3 -7  0  0]\n",
      " [ 2  2 -2  5  5]]\n",
      "Multiply two array: \n",
      " [[ 0  4 18  9 16]\n",
      " [15 24 63 24 36]]\n",
      "Division two array:\n",
      " [[0.         0.25       0.22222222 1.         1.        ]\n",
      " [1.66666667 1.5        0.77777778 2.66666667 2.25      ]]\n",
      "Square root of array_1 :\n",
      " [[0.         1.         1.41421356 1.73205081 2.        ]\n",
      " [2.23606798 2.44948974 2.64575131 2.82842712 3.        ]]\n"
     ]
    }
   ],
   "source": [
    "arr1=np.arange(10).reshape(2,5)\n",
    "arr2=np.array([3,4,9,3,4])\n",
    "print(\"Array_1: \\n\",arr1)\n",
    "print(\"Array_2: \\n\",arr2)\n",
    "#Adding two array\n",
    "print('Adding two arrays: \\n',arr1+arr2)\n",
    "#Subtract two array\n",
    "print('Subracting two arrays: \\n',arr1-arr2)\n",
    "#Multiply two array\n",
    "print('Multiply two array: \\n',arr1*arr2)\n",
    "#Division\n",
    "print('Division two array:\\n',arr1/arr2)\n",
    "#square root of an array\n",
    "print('Square root of array_1 :\\n',np.sqrt(arr1))"
   ]
  },
  {
   "cell_type": "markdown",
   "metadata": {},
   "source": [
    "# Indexing\n",
    "- Accessing the array element"
   ]
  },
  {
   "cell_type": "code",
   "execution_count": 151,
   "metadata": {},
   "outputs": [
    {
     "data": {
      "text/plain": [
       "array([0, 1, 2, 3, 4, 5, 6, 7, 8, 9])"
      ]
     },
     "execution_count": 151,
     "metadata": {},
     "output_type": "execute_result"
    }
   ],
   "source": [
    "x=np.arange(10)\n",
    "x"
   ]
  },
  {
   "cell_type": "code",
   "execution_count": 215,
   "metadata": {},
   "outputs": [
    {
     "data": {
      "text/plain": [
       "2"
      ]
     },
     "execution_count": 215,
     "metadata": {},
     "output_type": "execute_result"
    }
   ],
   "source": [
    "x[2] #for 1D array"
   ]
  },
  {
   "cell_type": "code",
   "execution_count": 153,
   "metadata": {},
   "outputs": [
    {
     "data": {
      "text/plain": [
       "8"
      ]
     },
     "execution_count": 153,
     "metadata": {},
     "output_type": "execute_result"
    }
   ],
   "source": [
    "x[-2]"
   ]
  },
  {
   "cell_type": "code",
   "execution_count": 156,
   "metadata": {},
   "outputs": [
    {
     "data": {
      "text/plain": [
       "array([[15, 16, 17, 18, 19],\n",
       "       [20, 21, 22, 23, 24],\n",
       "       [25, 26, 27, 28, 29]])"
      ]
     },
     "execution_count": 156,
     "metadata": {},
     "output_type": "execute_result"
    }
   ],
   "source": [
    "y=np.arange(15,30).reshape(3,5)\n",
    "y"
   ]
  },
  {
   "cell_type": "code",
   "execution_count": 158,
   "metadata": {},
   "outputs": [
    {
     "data": {
      "text/plain": [
       "array([[23, 24],\n",
       "       [28, 29]])"
      ]
     },
     "execution_count": 158,
     "metadata": {},
     "output_type": "execute_result"
    }
   ],
   "source": [
    "#before comma(,) indicates row range and after comma(,) indicates column range\n",
    "y[1:,3:] "
   ]
  },
  {
   "cell_type": "code",
   "execution_count": 166,
   "metadata": {},
   "outputs": [
    {
     "data": {
      "text/plain": [
       "array([[15, 16, 17, 50, 50],\n",
       "       [20, 21, 22, 50, 50],\n",
       "       [25, 26, 27, 50, 50]])"
      ]
     },
     "execution_count": 166,
     "metadata": {},
     "output_type": "execute_result"
    }
   ],
   "source": [
    "y[:,3:]=50 #assign vale using indexing\n",
    "y"
   ]
  },
  {
   "cell_type": "code",
   "execution_count": 168,
   "metadata": {},
   "outputs": [],
   "source": [
    " z=np.linspace(1,10,50)"
   ]
  },
  {
   "cell_type": "code",
   "execution_count": 170,
   "metadata": {},
   "outputs": [
    {
     "data": {
      "text/plain": [
       "array([ 1.        ,  1.18367347,  1.36734694, 20.        , 20.        ,\n",
       "       20.        , 20.        , 20.        , 20.        , 20.        ,\n",
       "       20.        , 20.        , 20.        , 20.        , 20.        ,\n",
       "       20.        , 20.        , 20.        , 20.        , 20.        ,\n",
       "       20.        , 20.        , 20.        , 20.        , 20.        ,\n",
       "       20.        , 20.        , 20.        , 20.        , 20.        ,\n",
       "       20.        , 20.        , 20.        , 20.        , 20.        ,\n",
       "       20.        , 20.        , 20.        , 20.        , 20.        ,\n",
       "       20.        , 20.        , 20.        , 20.        , 20.        ,\n",
       "       20.        , 20.        , 20.        , 20.        , 20.        ])"
      ]
     },
     "execution_count": 170,
     "metadata": {},
     "output_type": "execute_result"
    }
   ],
   "source": [
    "z[3:]=20\n",
    "z"
   ]
  },
  {
   "cell_type": "markdown",
   "metadata": {},
   "source": [
    "#  Condition of Numpy array\n",
    "- np.where(conditon[,x,y]) functions returns the indices of elements in an input array where the given condition is satisfied"
   ]
  },
  {
   "cell_type": "code",
   "execution_count": 147,
   "metadata": {},
   "outputs": [
    {
     "name": "stdout",
     "output_type": "stream",
     "text": [
      "[[1 2 3]\n",
      " [4 5 6]]\n"
     ]
    }
   ],
   "source": [
    "a=np.array([[1,2,3],[4,5,6]])\n",
    "print(a)"
   ]
  },
  {
   "cell_type": "code",
   "execution_count": 149,
   "metadata": {},
   "outputs": [
    {
     "name": "stdout",
     "output_type": "stream",
     "text": [
      "Indices of elements <4\n",
      "(array([0, 0, 0], dtype=int64), array([0, 1, 2], dtype=int64))\n",
      "Elements which ar <4\n",
      "[1 2 3]\n"
     ]
    }
   ],
   "source": [
    "print('Indices of elements <4')\n",
    "b=np.where(a<4)\n",
    "print(b)\n",
    "print('Elements which ar <4')\n",
    "print(a[b])"
   ]
  },
  {
   "cell_type": "markdown",
   "metadata": {},
   "source": [
    "**For more check out the numpy documentation**\n",
    "<a href=\"https://www.numpy.org/\">numpy documentation</a>"
   ]
  },
  {
   "cell_type": "code",
   "execution_count": null,
   "metadata": {},
   "outputs": [],
   "source": []
  }
 ],
 "metadata": {
  "kernelspec": {
   "display_name": "Python 3",
   "language": "python",
   "name": "python3"
  },
  "language_info": {
   "codemirror_mode": {
    "name": "ipython",
    "version": 3
   },
   "file_extension": ".py",
   "mimetype": "text/x-python",
   "name": "python",
   "nbconvert_exporter": "python",
   "pygments_lexer": "ipython3",
   "version": "3.7.3"
  }
 },
 "nbformat": 4,
 "nbformat_minor": 2
}
